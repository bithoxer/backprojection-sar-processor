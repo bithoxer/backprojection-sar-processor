{
 "cells": [
  {
   "cell_type": "code",
   "execution_count": 20,
   "metadata": {},
   "outputs": [],
   "source": [
    "import matplotlib.pyplot as plt\n",
    "import numpy as np"
   ]
  },
  {
   "cell_type": "code",
   "execution_count": 22,
   "metadata": {},
   "outputs": [],
   "source": [
    "#=======================================================================\n",
    "# PARAMETERS\n",
    "#=======================================================================\n",
    "\n",
    "v = 30;                                     # velocity of platform [m/s]\n",
    "length = 1;                                 # length [s] of recording\n",
    "altitude = 1;                               # altitude of platform [m]\n",
    "target_location_dr = 50;                    # down-range location of target [m]\n",
    "target_location_cr = 15;                    # center azimuth target location [m]\n",
    "fc = 2.4374988545e9;                        # center frequency [GHz]                  (chirp ?)\n",
    "wavelength = 0.1229918354;                  # carrier wavelength [m]                  (?)\n",
    "sr = 3.125e6;                               # sample rate [MHz]\n",
    "PRF = 1250;                                 # pulse repetition frequency [Hz]\n",
    "range_scaling_factor = 0.0003448309;        # range scaling factor [m/Hz]\n",
    "\n",
    "n_rows = 1031;                              # number of range bins\n",
    "n_cols = 1250;                              # number of pulses\n"
   ]
  },
  {
   "cell_type": "code",
   "execution_count": 45,
   "metadata": {},
   "outputs": [],
   "source": [
    "#=======================================================================\n",
    "# WINDOW FUNCTIONS\n",
    "#=======================================================================\n",
    "\n",
    "blackman_window = np.transpose(np.tile(np.blackman(n_rows), (n_cols, 1)))\n",
    "hamming_window = np.transpose(np.tile(np.hamming(n_rows), (n_cols, 1)))\n",
    "\n",
    "window_matrix = blackman_window\n",
    "\n",
    "# plt.figure(figsize=(6,5))\n",
    "# plt.plot(blackman_window[:, 1])\n",
    "# plt.title('Blackman Window')\n",
    "\n",
    "# plt.figure(figsize=(6,5))\n",
    "# plt.plot(hamming_window[:, 1])\n",
    "# plt.title('Hamming Window')"
   ]
  },
  {
   "cell_type": "code",
   "execution_count": 46,
   "metadata": {},
   "outputs": [],
   "source": [
    "#=======================================================================\n",
    "# LOADING DATA\n",
    "#=======================================================================\n",
    "uncompressed_data = np.fromfile('sim_sar.bin', dtype='complex128')\n",
    "uncompressed_data = uncompressed_data.reshape((n_rows, n_cols))\n",
    "\n",
    "# plt.figure(figsize=(6,5))\n",
    "# plt.plot(np.real(uncompressed_data[:, 1]))\n",
    "# plt.title('Raw Dechirped SAR Data for Single Pulse')"
   ]
  },
  {
   "cell_type": "code",
   "execution_count": 64,
   "metadata": {},
   "outputs": [],
   "source": [
    "#=======================================================================\n",
    "# PRE-PROCESSING\n",
    "#=======================================================================\n",
    "\n",
    "### Range Compression\n",
    "# Data is compressed by using a range window and zero-padding then performing an FFT.\n",
    "windowed_data = np.multiply(uncompressed_data, window_matrix)\n",
    "# del uncompressed_data, window_matrix # deletes uncompressed_data array\n",
    "\n",
    "# plt.figure()\n",
    "# plt.plot(windowed_data[:, 1])\n",
    "# plt.title('Windowed Data')\n",
    "\n",
    "# Performing 1 dimensional FFT along rows. \n",
    "range_compressed = np.fft.fftshift(np.fft.fft(windowed_data, axis=0), axes=0);\n",
    "range_compressed_power = 20*np.log10(abs(range_compressed))\n",
    "range_compressed_phase = np.angle(range_compressed)\n",
    "\n",
    "# plt.figure()\n",
    "# plt.plot(range_compressed_power[:, 1])\n",
    "\n",
    "# plt.figure()\n",
    "# plt.imshow(\n",
    "#     np.flipud(range_compressed_power),\n",
    "#     # cmap=plt.cm.gray, \n",
    "#     # extent=[az_axis[0], az_axis[-1], rg_axis[-1], rg_axis[0]], \n",
    "#     # vmin=dr[0], \n",
    "#     # vmax=dr[-1],\n",
    "#     aspect='auto',\n",
    "#     rasterized=True\n",
    "# )\n",
    "\n",
    "# plt.figure()\n",
    "# plt.imshow(\n",
    "#     np.flipud(range_compressed_phase),\n",
    "#     # cmap=plt.cm.gray, \n",
    "#     # extent=[az_axis[0], az_axis[-1], rg_axis[-1], rg_axis[0]], \n",
    "#     # vmin=dr[0], \n",
    "#     # vmax=dr[-1],\n",
    "#     aspect='auto',\n",
    "#     rasterized=True\n",
    "# )\n",
    "\n",
    "# plt.show()"
   ]
  },
  {
   "cell_type": "code",
   "execution_count": null,
   "metadata": {},
   "outputs": [],
   "source": [
    "#=======================================================================\n",
    "# BACKPROJECTION IMAGE FORMATION\n",
    "#=======================================================================\n"
   ]
  }
 ],
 "metadata": {
  "kernelspec": {
   "display_name": "Python 3",
   "language": "python",
   "name": "python3"
  },
  "language_info": {
   "codemirror_mode": {
    "name": "ipython",
    "version": 3
   },
   "file_extension": ".py",
   "mimetype": "text/x-python",
   "name": "python",
   "nbconvert_exporter": "python",
   "pygments_lexer": "ipython3",
   "version": "3.7.6"
  }
 },
 "nbformat": 4,
 "nbformat_minor": 4
}
